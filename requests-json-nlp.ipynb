{
 "cells": [
  {
   "cell_type": "markdown",
   "metadata": {},
   "source": [
    "# Web Mining and Applied NLP (44-620)\n",
    "\n",
    "## Requests, JSON, and NLP\n",
    "\n",
    "### Student Name: Adeyemi Toba\n",
    "\n",
    "## GitHub Link: https://github.com/Adeyemitoba/json-sentiment\n",
    "\n",
    "Perform the tasks described in the Markdown cells below.  When you have completed the assignment make sure your code cells have all been run (and have output beneath them) and ensure you have committed and pushed ALL of your changes to your assignment repository.\n",
    "\n",
    "Make sure you have [installed spaCy and its pipeline](https://spacy.io/usage#quickstart) and [spaCyTextBlob](https://spacy.io/universe/project/spacy-textblob)\n",
    "\n",
    "Every question that requires you to write code will have a code cell underneath it; you may either write your entire solution in that cell or write it in a python file (`.py`), then import and run the appropriate code to answer the question.\n",
    "\n",
    "This assignment requires that you write additional files (either JSON or pickle files); make sure to submit those files in your repository as well."
   ]
  },
  {
   "cell_type": "markdown",
   "metadata": {},
   "source": [
    "1. The following code accesses the [lyrics.ovh](https://lyricsovh.docs.apiary.io/#reference/0/lyrics-of-a-song/search) public api, searches for the lyrics of a song, and stores it in a dictionary object.  Write the resulting json to a file (either a JSON file or a pickle file; you choose). You will read in the contents of this file for future questions so we do not need to frequently access the API."
   ]
  },
  {
   "cell_type": "markdown",
   "metadata": {},
   "source": [
    "## Question 1"
   ]
  },
  {
   "cell_type": "code",
   "execution_count": 3,
   "metadata": {},
   "outputs": [
    {
     "name": "stdout",
     "output_type": "stream",
     "text": [
      "Take this kiss upon the brow!\n",
      "And, in parting from you now,\n",
      "Thus much let me avow--\n",
      "You are not wrong, who deem\n",
      "That my days have been a dream:\n",
      "Yet if hope has flown away\n",
      "In a night, or in a day,\n",
      "In a vision or in none,\n",
      "Is it therefore the less _gone_?\n",
      "_All_ that we see or seem\n",
      "Is but a dream within a dream.\n",
      "\n",
      "I stand amid the roar\n",
      "Of a surf-tormented shore,\n",
      "And I hold within my hand\n",
      "Grains of the golden sand--\n",
      "How few! yet how they creep\n",
      "Through my fingers to the deep\n",
      "While I weep--while I weep!\n",
      "O God! can I not grasp\n",
      "Them with a tighter clasp?\n",
      "O God! can I not save\n",
      "_One_ from the pitiless wave?\n",
      "Is _all_ that we see or seem\n",
      "But a dream within a dream?\n"
     ]
    }
   ],
   "source": [
    "import requests\n",
    "import json\n",
    "\n",
    "AUTHOR='Edgar Allan Poe'\n",
    "POEM = 'A Dream Within A Dream'\n",
    "\n",
    "#only certain poets and titles are available\n",
    "#to see the available poets, go to (in a web browser)\n",
    "# https://poetrydb.org/author\n",
    "#To see which poems that author has available, go to \n",
    "# https://poetrydb.org/author/AUTHOR NAME\n",
    "# e.g.: https://poetrydb.org/author/Edgar Allan Poe\n",
    "#The spaces will get handled by your web browser\n",
    "\n",
    "# A cool pythonism (introduced in Python 3): f strings\n",
    "# https://docs.python.org/3/tutorial/inputoutput.html#tut-f-strings\n",
    "\n",
    "URL = f'https://poetrydb.org/author,title/{AUTHOR};{POEM}'\n",
    "result = json.loads(requests.get(URL).text)\n",
    "poem = '\\n'.join(result[0]['lines']) \n",
    "\n",
    "# JSON File\n",
    "with open('poem.json', 'w') as file:\n",
    "    json.dump(result, file)\n",
    "    print(poem)\n"
   ]
  },
  {
   "cell_type": "markdown",
   "metadata": {},
   "source": [
    "2. Read in the contents of your file.  Print the lyrics of the song (not the entire dictionary!) and use spaCyTextBlob to perform sentiment analysis on the lyrics.  Print the polarity score of the sentiment analysis.  Given that the range of the polarity score is `[-1.0,1.0]` which corresponds to how positive or negative the text in question is, do you think the lyrics have a more positive or negative connotaion?  Answer this question in a comment in your code cell."
   ]
  },
  {
   "cell_type": "markdown",
   "metadata": {},
   "source": [
    "## Question 2"
   ]
  },
  {
   "cell_type": "code",
   "execution_count": 8,
   "metadata": {},
   "outputs": [
    {
     "name": "stdout",
     "output_type": "stream",
     "text": [
      "Poem Lyrics:\n",
      " Take this kiss upon the brow!\n",
      "And, in parting from you now,\n",
      "Thus much let me avow--\n",
      "You are not wrong, who deem\n",
      "That my days have been a dream:\n",
      "Yet if hope has flown away\n",
      "In a night, or in a day,\n",
      "In a vision or in none,\n",
      "Is it therefore the less _gone_?\n",
      "_All_ that we see or seem\n",
      "Is but a dream within a dream.\n",
      "\n",
      "I stand amid the roar\n",
      "Of a surf-tormented shore,\n",
      "And I hold within my hand\n",
      "Grains of the golden sand--\n",
      "How few! yet how they creep\n",
      "Through my fingers to the deep\n",
      "While I weep--while I weep!\n",
      "O God! can I not grasp\n",
      "Them with a tighter clasp?\n",
      "O God! can I not save\n",
      "_One_ from the pitiless wave?\n",
      "Is _all_ that we see or seem\n",
      "But a dream within a dream?\n",
      "\n",
      "Polarity Score: None\n"
     ]
    }
   ],
   "source": [
    "import json\n",
    "import spacy\n",
    "\n",
    "# Initialize spaCy\n",
    "nlp = spacy.load('en_core_web_sm')\n",
    "\n",
    "# Read in the contents of the JSON file\n",
    "with open('poem.json', 'r') as file:\n",
    "    result = json.load(file)\n",
    "\n",
    "# Extract the poem's text (lyrics)\n",
    "poem_lines = result[0]['lines']\n",
    "poem_text = '\\n'.join(poem_lines)\n",
    "\n",
    "# Print the lyrics of the song (poem)\n",
    "print(\"Poem Lyrics:\\n\", poem_text)\n",
    "\n",
    "# Perform sentiment analysis on the lyrics\n",
    "doc = nlp(poem_text)\n",
    "polarity_score = doc._.polarity\n",
    "\n",
    "# Print the polarity score of the sentiment analysis\n",
    "print(\"\\nPolarity Score:\", polarity_score)"
   ]
  },
  {
   "cell_type": "markdown",
   "metadata": {},
   "source": [
    "3. Write a function that takes an artist, song, and filename, accesses the lyrics.ovh api to get the song lyrics, and writes the results to the specified filename.  Test this function by getting the lyrics to any four songs of your choice and storing them in different files."
   ]
  },
  {
   "cell_type": "markdown",
   "metadata": {},
   "source": [
    "## Question 3"
   ]
  },
  {
   "cell_type": "code",
   "execution_count": 5,
   "metadata": {},
   "outputs": [
    {
     "name": "stdout",
     "output_type": "stream",
     "text": [
      "Lyrics for Bohemian Rhapsody by Queen written to bohemian_rhapsody_queen.json\n",
      "Lyrics for Like a Rolling Stone by Bob Dylan written to like_a_rolling_stone_bob_dylan.json\n",
      "Lyrics for Shake It Off by Taylor Swift written to shake_it_off_lyrics.json\n",
      "Lyrics for Smells Like Teen Spirit by Nirvana written to smells_like_teen_spirit_nirvana.json\n"
     ]
    }
   ],
   "source": [
    "import requests\n",
    "import json\n",
    "\n",
    "def write_song_from_api_to_json(artist, song, filename):\n",
    "    url = f\"https://api.lyrics.ovh/v1/{artist}/{song}\"\n",
    "    response = requests.get(url)\n",
    "    if response.status_code == 200:\n",
    "        data = response.json()\n",
    "        with open(filename, 'w') as file:\n",
    "            json.dump(data, file)\n",
    "            print(f\"Lyrics for {song} by {artist} written to {filename}\")\n",
    "    else:\n",
    "        print(f\"Failed to retrieve lyrics for {song} by {artist}\")\n",
    "\n",
    "# Test the function with four songs\n",
    "write_song_from_api_to_json(\"Queen\", \"Bohemian Rhapsody\", \"bohemian_rhapsody_queen.json\")\n",
    "write_song_from_api_to_json(\"Bob Dylan\", \"Like a Rolling Stone\", \"like_a_rolling_stone_bob_dylan.json\")\n",
    "write_song_from_api_to_json(\"Taylor Swift\", \"Shake It Off\", \"shake_it_off_lyrics.json\")\n",
    "write_song_from_api_to_json(\"Nirvana\", \"Smells Like Teen Spirit\", \"smells_like_teen_spirit_nirvana.json\")"
   ]
  },
  {
   "cell_type": "markdown",
   "metadata": {},
   "source": [
    "4. Write a function that takes the name of a file that contains song lyrics, loads the file, performs sentiment analysis, and returns the polarity score.  Use this function to print the polarity scores (with the name of the song) of the three files you created in question 3.  Does the reported polarity match your understanding of the song's lyrics? Why or why not do you think that might be?  Answer the questions in either a comment in the code cell or a markdown cell under the code cell."
   ]
  },
  {
   "cell_type": "markdown",
   "metadata": {},
   "source": [
    "## Question 4"
   ]
  },
  {
   "cell_type": "code",
   "execution_count": 6,
   "metadata": {},
   "outputs": [
    {
     "name": "stdout",
     "output_type": "stream",
     "text": [
      "bohemian_rhapsody_queen.json: Polarity Score: -0.0029495701058200783\n",
      "like_a_rolling_stone_bob_dylan.json: Polarity Score: 0.1694394685773996\n",
      "shake_it_off_lyrics.json: Polarity Score: -0.4865204843465713\n",
      "smells_like_teen_spirit_nirvana.json: Polarity Score: -0.19895833333333332\n"
     ]
    }
   ],
   "source": [
    "import json\n",
    "import spacy\n",
    "from spacytextblob.spacytextblob import SpacyTextBlob\n",
    "\n",
    "def calculate_sentiment_polarity(filename):\n",
    "    with open(filename, 'r') as file:\n",
    "        data = json.load(file)\n",
    "        poem = data['lyrics']\n",
    "\n",
    "    nlp = spacy.load('en_core_web_sm')\n",
    "    nlp.add_pipe('spacytextblob')\n",
    "    doc = nlp(poem)\n",
    "    return doc._.polarity\n",
    "\n",
    "# Calculate and print the polarity scores for the three files\n",
    "filenames = [\"bohemian_rhapsody_queen.json\", \"like_a_rolling_stone_bob_dylan.json\", \"shake_it_off_lyrics.json\", \"smells_like_teen_spirit_nirvana.json\"]\n",
    "for filename in filenames:\n",
    "    polarity_score = calculate_sentiment_polarity(filename)\n",
    "    print(f\"{filename}: Polarity Score: {polarity_score}\")"
   ]
  },
  {
   "cell_type": "code",
   "execution_count": null,
   "metadata": {},
   "outputs": [],
   "source": []
  }
 ],
 "metadata": {
  "kernelspec": {
   "display_name": "Python 3 (ipykernel)",
   "language": "python",
   "name": "python3"
  },
  "language_info": {
   "codemirror_mode": {
    "name": "ipython",
    "version": 3
   },
   "file_extension": ".py",
   "mimetype": "text/x-python",
   "name": "python",
   "nbconvert_exporter": "python",
   "pygments_lexer": "ipython3",
   "version": "3.12.2"
  }
 },
 "nbformat": 4,
 "nbformat_minor": 4
}
